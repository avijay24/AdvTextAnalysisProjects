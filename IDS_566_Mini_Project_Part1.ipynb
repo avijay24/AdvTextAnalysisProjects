{
  "cells": [
    {
      "cell_type": "markdown",
      "metadata": {
        "id": "O99ryCI64Xsq"
      },
      "source": [
        "**(a) Write a code from the scratch that learns unigram and bigram models on the training data as Python dictionaries. Report the perplexity of your unigram and bigram models on the both training data and test data.**"
      ]
    },
    {
      "cell_type": "code",
      "execution_count": 1,
      "metadata": {
        "colab": {
          "base_uri": "https://localhost:8080/"
        },
        "id": "gxwSMfvu9vPl",
        "outputId": "75a5f28b-dced-45d1-9e0b-27254e5ad558"
      },
      "outputs": [
        {
          "output_type": "stream",
          "name": "stderr",
          "text": [
            "[nltk_data] Downloading package brown to /root/nltk_data...\n",
            "[nltk_data]   Unzipping corpora/brown.zip.\n"
          ]
        }
      ],
      "source": [
        "#Importing libraries\n",
        "import nltk\n",
        "nltk.download('brown')\n",
        "from nltk.corpus import brown\n",
        "import itertools\n",
        "import string\n",
        "import math\n",
        "import pandas as pd\n",
        "import random\n",
        "import collections"
      ]
    },
    {
      "cell_type": "code",
      "execution_count": null,
      "metadata": {
        "id": "wh12vmlt9xna"
      },
      "outputs": [],
      "source": [
        "brown.categories()"
      ]
    },
    {
      "cell_type": "code",
      "execution_count": 3,
      "metadata": {
        "colab": {
          "base_uri": "https://localhost:8080/"
        },
        "id": "VjgjSDbD94NI",
        "outputId": "a19100ca-5d95-466a-da66-06c5bb7c19ed"
      },
      "outputs": [
        {
          "output_type": "execute_result",
          "data": {
            "text/plain": [
              "57340"
            ]
          },
          "metadata": {},
          "execution_count": 3
        }
      ],
      "source": [
        "len(brown.sents())"
      ]
    },
    {
      "cell_type": "markdown",
      "metadata": {
        "id": "0JcyXcWNg8rM"
      },
      "source": [
        "Splitting the dataset"
      ]
    },
    {
      "cell_type": "code",
      "execution_count": 25,
      "metadata": {
        "id": "VXiuG-a2fVOK"
      },
      "outputs": [],
      "source": [
        "dataset = [sentence for sentence in brown.sents()]\n",
        "#Splitting the data\n",
        "d_train = dataset[0:40138]\n",
        "d_vald = dataset[40139:45873]\n",
        "d_test = dataset[45874:]"
      ]
    },
    {
      "cell_type": "code",
      "source": [
        "print(len(d_train))\n",
        "print(len(d_vald))\n",
        "print(len(d_test))"
      ],
      "metadata": {
        "colab": {
          "base_uri": "https://localhost:8080/"
        },
        "id": "yk9fDGOf9IOm",
        "outputId": "28dd4461-f41a-41bf-e02c-a317d64c6a3f"
      },
      "execution_count": 26,
      "outputs": [
        {
          "output_type": "stream",
          "name": "stdout",
          "text": [
            "40138\n",
            "5734\n",
            "11466\n"
          ]
        }
      ]
    },
    {
      "cell_type": "code",
      "execution_count": 27,
      "metadata": {
        "colab": {
          "base_uri": "https://localhost:8080/"
        },
        "id": "y6aOMKNTfrAE",
        "outputId": "595cf1c2-5959-41cf-e87d-8e726e52430b"
      },
      "outputs": [
        {
          "output_type": "stream",
          "name": "stdout",
          "text": [
            "Total corpus for training data :  890689\n"
          ]
        }
      ],
      "source": [
        "# Total no.of tokens in training data for unigram calculation\n",
        "d_t = list(itertools.chain.from_iterable(d_train))\n",
        "total_dtrain = len(d_t)\n",
        "print(\"Total corpus for training data : \", total_dtrain)"
      ]
    },
    {
      "cell_type": "markdown",
      "metadata": {
        "id": "2g7zxMaIgwIR"
      },
      "source": [
        "Preprocessing the data"
      ]
    },
    {
      "cell_type": "code",
      "execution_count": 30,
      "metadata": {
        "id": "KPyqkHIn-CtO"
      },
      "outputs": [],
      "source": [
        "# Function to remove punctuations and empty strings and make it to lowercase\n",
        "def preprocess_data(sents):\n",
        "    for i in range(len(sents)):\n",
        "        #print(sents[i])\n",
        "        sents[i] = [''.join(c for c in s if c not in string.punctuation) for s in sents[i]] # remove punctuations\n",
        "        sents[i] = [s for s in sents[i] if s] # removes empty strings\n",
        "        sents[i] = [word.lower() for word in sents[i]] # lower case\n",
        "        sents[i] += ['</s>', '</s>'] # Append </s> at the end of each sentence in the corpus\n",
        "        sents[i].insert(0, '<s>')  # Append <s> at the beginning of each sentence in the corpus\n",
        "        sents[i].insert(0, '<s>')  # Append <s> at the beginning of each sentence in the corpus\n",
        "    print(\"No of sentences in Corpus: \"+str(len(sents)))\n",
        "    return sents"
      ]
    },
    {
      "cell_type": "code",
      "execution_count": 31,
      "metadata": {
        "colab": {
          "base_uri": "https://localhost:8080/"
        },
        "id": "TOjeNAif99s1",
        "outputId": "6c3d4b25-ea70-4f04-a76e-ef42f23fbe7f"
      },
      "outputs": [
        {
          "output_type": "stream",
          "name": "stdout",
          "text": [
            "No of sentences in Corpus: 40138\n"
          ]
        }
      ],
      "source": [
        "d_train = preprocess_data(d_train)"
      ]
    },
    {
      "cell_type": "markdown",
      "metadata": {
        "id": "Y84u5TNsel5s"
      },
      "source": [
        "Total Vocabulary Size"
      ]
    },
    {
      "cell_type": "code",
      "execution_count": 32,
      "metadata": {
        "id": "Yug59FZSelKx"
      },
      "outputs": [],
      "source": [
        "# Function to calucate the unique set of words\n",
        "def vocab(dataset):\n",
        "    ds = set(itertools.chain.from_iterable(dataset))\n",
        "    # remove <s> and </s> from the vocabulary of the dataset\n",
        "    ds.remove('<s>')\n",
        "    ds.remove('</s>')\n",
        "    ds = list(ds)\n",
        "    ds.append('<s>')\n",
        "    ds.append('</s>')\n",
        "    return ds\n",
        "\n",
        "dtrn_vocab = vocab(d_train)"
      ]
    },
    {
      "cell_type": "code",
      "execution_count": 33,
      "metadata": {
        "colab": {
          "base_uri": "https://localhost:8080/"
        },
        "id": "x-jyOR7jfMkJ",
        "outputId": "cb1ff46a-61d6-4ab7-8c7a-aeac6222514f"
      },
      "outputs": [
        {
          "output_type": "stream",
          "name": "stdout",
          "text": [
            "Vocabulary Size of training data:  42235\n"
          ]
        }
      ],
      "source": [
        "dtrn_vocab_size = len(dtrn_vocab)\n",
        "print(\"Vocabulary Size of training data: \", dtrn_vocab_size)"
      ]
    },
    {
      "cell_type": "markdown",
      "metadata": {
        "id": "XSHbc0ELhC-D"
      },
      "source": [
        "Frequency of unique words"
      ]
    },
    {
      "cell_type": "code",
      "execution_count": 34,
      "metadata": {
        "id": "PhK7PCv8DlwG"
      },
      "outputs": [],
      "source": [
        "def cal_unique_freq(dataset):\n",
        "    bag_of_words = list(itertools.chain.from_iterable(dataset)) # change the nested list to one single list\n",
        "    corpus_word_count = 0 # to get a count of words excluding start and stop symbols.\n",
        "    count = {}\n",
        "    for word in bag_of_words:\n",
        "        if word in count :\n",
        "            count[word] += 1\n",
        "        else:\n",
        "            count[word] = 1\n",
        "        if word != '<s>' and word != '</s>':\n",
        "             corpus_word_count +=1\n",
        "            \n",
        "    unique_word_count = len(count) #number of unique words in the corpus\n",
        "    print(\"No of unique words in corpus : \"+ str(unique_word_count))\n",
        "    print(\"No of words in corpus: \"+ str(corpus_word_count))\n",
        "    return count"
      ]
    },
    {
      "cell_type": "code",
      "execution_count": 35,
      "metadata": {
        "id": "DW_NFsPqE-kp",
        "colab": {
          "base_uri": "https://localhost:8080/"
        },
        "outputId": "9485790b-0abb-4a2e-8a36-3fbccd026b3c"
      },
      "outputs": [
        {
          "output_type": "stream",
          "name": "stdout",
          "text": [
            "No of unique words in corpus : 42235\n",
            "No of words in corpus: 785353\n"
          ]
        }
      ],
      "source": [
        "unigram_freq = cal_unique_freq(d_train)"
      ]
    },
    {
      "cell_type": "code",
      "source": [
        "unigram_freq"
      ],
      "metadata": {
        "id": "GEwymOB8CcAW"
      },
      "execution_count": null,
      "outputs": []
    },
    {
      "cell_type": "markdown",
      "metadata": {
        "id": "uxzaJunLhKkO"
      },
      "source": [
        "Unigram Model based on total token and word frequencies"
      ]
    },
    {
      "cell_type": "code",
      "execution_count": 36,
      "metadata": {
        "id": "FoTaAaUQIVWd"
      },
      "outputs": [],
      "source": [
        "def cal_unigram_prob(word_freq, total_tokens):\n",
        "  unigram = {}\n",
        "  for w in word_freq:\n",
        "    unigram[w] = word_freq[w] /total_tokens\n",
        "  return unigram"
      ]
    },
    {
      "cell_type": "code",
      "execution_count": null,
      "metadata": {
        "id": "Fi6wleQHhZix"
      },
      "outputs": [],
      "source": [
        "unigram_probabilities = cal_unigram_prob(unigram_freq, total_dtrain)\n",
        "unigram_probabilities"
      ]
    },
    {
      "cell_type": "markdown",
      "metadata": {
        "id": "Oqpx8wEWibcF"
      },
      "source": [
        "Bigram Model"
      ]
    },
    {
      "cell_type": "code",
      "execution_count": 40,
      "metadata": {
        "id": "O5PG9cLKOgoa"
      },
      "outputs": [],
      "source": [
        "#Calculating the bigram frequencies of set of words\n",
        "def cal_bigram_freq(lines):\n",
        "    bigram_frequencies = dict()\n",
        "    for sentence in lines:\n",
        "        given_word = None\n",
        "        for word in sentence:\n",
        "            if given_word != None:\n",
        "                bigram_frequencies[(given_word, word)] = bigram_frequencies.get((given_word, word),0) + 1\n",
        "            given_word = word    \n",
        "    return bigram_frequencies"
      ]
    },
    {
      "cell_type": "code",
      "execution_count": null,
      "metadata": {
        "id": "f84b1MyCaepN"
      },
      "outputs": [],
      "source": [
        "bigram_freq = cal_bigram_freq(d_train)\n",
        "bigram_freq"
      ]
    },
    {
      "cell_type": "code",
      "execution_count": 43,
      "metadata": {
        "id": "PIIeh9x7k1bk"
      },
      "outputs": [],
      "source": [
        "# Calculating bigram probability\n",
        "def cal_bigram_prob(bigram_freq, unique_freq, denom = 0, add_l=False):\n",
        "    bigram_prob = dict() \n",
        "    for key in bigram_freq:\n",
        "        numerator = bigram_freq.get(key)\n",
        "        if add_l:\n",
        "          denominator = unique_freq.get(key[0]) + denom # If smoothing then unigram's freq of given word + no.of unique words\n",
        "        else:\n",
        "          denominator = unique_freq.get(key[0]) # get the frequency of \"given word\" in the corpus.\n",
        "        \n",
        "        if (numerator == 0 or denominator== 0):\n",
        "            bigram_prob[key] = 0\n",
        "        else:\n",
        "            bigram_prob[key] = float(numerator)/float(denominator)\n",
        "    return bigram_prob"
      ]
    },
    {
      "cell_type": "code",
      "execution_count": null,
      "metadata": {
        "id": "tai71zN1lz-C"
      },
      "outputs": [],
      "source": [
        "bigram_probabilities = cal_bigram_prob(bigram_freq,unigram_freq)\n",
        "bigram_probabilities"
      ]
    },
    {
      "cell_type": "markdown",
      "metadata": {
        "id": "PAWuJx8Rn0Bh"
      },
      "source": [
        "Perplexity"
      ]
    },
    {
      "cell_type": "code",
      "execution_count": 46,
      "metadata": {
        "colab": {
          "base_uri": "https://localhost:8080/"
        },
        "id": "x5sByJxq1b6-",
        "outputId": "5ce8ba55-35b2-4d62-dddf-2e06bd2db5b0"
      },
      "outputs": [
        {
          "output_type": "stream",
          "name": "stdout",
          "text": [
            "No of sentences in Corpus: 11466\n",
            "No of sentences in Corpus: 5734\n"
          ]
        }
      ],
      "source": [
        "#Preprocessing of test and validation data\n",
        "d_trn = list(itertools.chain.from_iterable(d_train))\n",
        "d_tst = preprocess_data(d_test)\n",
        "d_tst = list(itertools.chain.from_iterable(d_tst))\n",
        "d_val = preprocess_data(d_vald)\n",
        "d_val = list(itertools.chain.from_iterable(d_val))\n"
      ]
    },
    {
      "cell_type": "code",
      "execution_count": 47,
      "metadata": {
        "id": "IscS9vLzoIUw"
      },
      "outputs": [],
      "source": [
        "# To calculate the perplexity\n",
        "def perplexity(ngrams, model):\n",
        "    perplexity = 0\n",
        "    N = 0\n",
        "    for word in ngrams:\n",
        "        N += 1\n",
        "        if(word in model):\n",
        "            perplexity = perplexity + math.log(model[word],2)        \n",
        "    perplexity = -(perplexity * 1/N )\n",
        "    return pow(2,perplexity)"
      ]
    },
    {
      "cell_type": "code",
      "execution_count": 48,
      "metadata": {
        "colab": {
          "base_uri": "https://localhost:8080/"
        },
        "id": "GmiGHuFWyFb0",
        "outputId": "abd33c56-91f9-4adc-dbe5-a87b7592258a"
      },
      "outputs": [
        {
          "output_type": "execute_result",
          "data": {
            "text/plain": [
              "730.130991189557"
            ]
          },
          "metadata": {},
          "execution_count": 48
        }
      ],
      "source": [
        "#Perplexity of unigram training data\n",
        "uni_train_perp = perplexity(d_trn, unigram_probabilities)\n",
        "uni_train_perp"
      ]
    },
    {
      "cell_type": "code",
      "execution_count": 49,
      "metadata": {
        "colab": {
          "base_uri": "https://localhost:8080/"
        },
        "id": "tGEXHRE2tfEK",
        "outputId": "81fd8a7f-7cc4-45ad-82c6-0a751460947e"
      },
      "outputs": [
        {
          "output_type": "execute_result",
          "data": {
            "text/plain": [
              "378.65046453661864"
            ]
          },
          "metadata": {},
          "execution_count": 49
        }
      ],
      "source": [
        "#Perplexity of unigram validation data\n",
        "uni_val_perp = perplexity(d_val, unigram_probabilities)\n",
        "uni_val_perp"
      ]
    },
    {
      "cell_type": "code",
      "execution_count": 51,
      "metadata": {
        "colab": {
          "base_uri": "https://localhost:8080/"
        },
        "id": "mBfaUXV6tboZ",
        "outputId": "262a5c8b-75b0-4fa6-e5b9-a6bf33c627ac"
      },
      "outputs": [
        {
          "output_type": "execute_result",
          "data": {
            "text/plain": [
              "377.645417328154"
            ]
          },
          "metadata": {},
          "execution_count": 51
        }
      ],
      "source": [
        "#Perplexity of unigram test data\n",
        "uni_test_perp = perplexity(d_tst, unigram_probabilities)\n",
        "uni_test_perp"
      ]
    },
    {
      "cell_type": "code",
      "execution_count": 52,
      "metadata": {
        "colab": {
          "base_uri": "https://localhost:8080/"
        },
        "id": "PhxoMpr4t5AY",
        "outputId": "10b43663-42d7-4268-de2a-2beff9b05ad2"
      },
      "outputs": [
        {
          "output_type": "execute_result",
          "data": {
            "text/plain": [
              "49.87132625761988"
            ]
          },
          "metadata": {},
          "execution_count": 52
        }
      ],
      "source": [
        "#Perplexity of bigram training data\n",
        "\n",
        "#bigrams for training data\n",
        "bigrams_trn = list(zip(*[d_trn[i:] for i in range(2)]))\n",
        "bi_train_perp = perplexity(bigrams_trn, bigram_probabilities)\n",
        "bi_train_perp"
      ]
    },
    {
      "cell_type": "code",
      "execution_count": 53,
      "metadata": {
        "colab": {
          "base_uri": "https://localhost:8080/"
        },
        "id": "OZF-U3lt0kw1",
        "outputId": "94396e41-4ca0-4f27-f390-3ab9fecbb9f9"
      },
      "outputs": [
        {
          "output_type": "execute_result",
          "data": {
            "text/plain": [
              "12.276443909371919"
            ]
          },
          "metadata": {},
          "execution_count": 53
        }
      ],
      "source": [
        "#Perplexity of bigram validation data\n",
        "\n",
        "#bigrams for validation data\n",
        "bigrams_val = list(zip(*[d_val[i:] for i in range(2)]))\n",
        "bi_val_perp = perplexity(bigrams_val, bigram_probabilities)\n",
        "bi_val_perp"
      ]
    },
    {
      "cell_type": "code",
      "execution_count": 54,
      "metadata": {
        "colab": {
          "base_uri": "https://localhost:8080/"
        },
        "id": "LvEv74FN3CNr",
        "outputId": "49c1daa6-e907-4880-8378-27738f08fa72"
      },
      "outputs": [
        {
          "output_type": "execute_result",
          "data": {
            "text/plain": [
              "11.836979146604865"
            ]
          },
          "metadata": {},
          "execution_count": 54
        }
      ],
      "source": [
        "#Perplexity of bigram test data\n",
        "\n",
        "#bigrams for test data\n",
        "bigrams_tst = list(zip(*[d_tst[i:] for i in range(2)]))\n",
        "bi_tst_perp = perplexity(bigrams_tst, bigram_probabilities)\n",
        "bi_tst_perp"
      ]
    },
    {
      "cell_type": "markdown",
      "metadata": {
        "id": "ukjH3hJ53VNS"
      },
      "source": [
        "*Perplexity of Unigram on:* \n",
        "\n",
        ">*Training Data : 730.130991189557*\n",
        "\n",
        ">*Test Data : 377.645417328154*\n",
        "\n",
        "*Perplexity of Bigram on:*\n",
        "\n",
        "> *Training Data : 49.87132625761988*\n",
        "\n",
        "> *Test Data: 11.836979146604865*\n",
        "\n",
        "***Perplexity of upper n-gram models is lowest as they use the context. Lower the perplexity, better the model.***\n",
        "\n",
        "\n"
      ]
    },
    {
      "cell_type": "markdown",
      "metadata": {
        "id": "47lJOBD44GZc"
      },
      "source": [
        "**(b) Implement add-lambda smoothing method. With varying lambda values. Draw a curve that measures your perplexity change over different lambda values on the developing data.**"
      ]
    },
    {
      "cell_type": "code",
      "execution_count": 55,
      "metadata": {
        "id": "MK5lDupd4DdG"
      },
      "outputs": [],
      "source": [
        "#Function to provide smoothened frequencies\n",
        "def add_l_smoothing(l, freq):\n",
        "  s_freq = dict()\n",
        "  for key in freq.keys():\n",
        "      if freq.get(key) == None:\n",
        "        s_freq[key] = l\n",
        "      else:\n",
        "        s_freq[key] = freq.get(key)+l\n",
        "  return s_freq"
      ]
    },
    {
      "cell_type": "markdown",
      "metadata": {
        "id": "C7POA1wMoXZj"
      },
      "source": [
        "Calculating perplexity for various lambda values"
      ]
    },
    {
      "cell_type": "code",
      "execution_count": 57,
      "metadata": {
        "id": "XLXM3QarZZjZ"
      },
      "outputs": [],
      "source": [
        "lamda = [0.001,0.05,0.1,1,1.5,2,3,4] \n",
        "\n",
        "sfreq_bi = dict()\n",
        "sfreq_uni = dict()\n",
        "df = pd.DataFrame(columns=['lambda', 'perp_uni', 'perp_bi'])\n",
        "\n",
        "\n",
        "for l in lamda:\n",
        "  #Calculating smoothened frequencies\n",
        "  sfreq_uni = add_l_smoothing(l,unigram_freq)\n",
        "  sfreq_bi = add_l_smoothing(l,bigram_freq)\n",
        "\n",
        "  #Probablities for smoothened freq\n",
        "  sf_uni_prob = cal_unigram_prob(sfreq_uni, total_dtrain + l*dtrn_vocab_size)\n",
        "  sf_bi_prob = cal_bigram_prob(sfreq_bi, unigram_freq, l*dtrn_vocab_size, add_l=True) \n",
        "  \n",
        "  #Perplexity of the model on validation data\n",
        "  sf_uni_perp = perplexity(d_val, sf_uni_prob)\n",
        "  sf_bi_perp = perplexity(bigrams_val, sf_bi_prob)\n",
        "\n",
        "  #collecting lambda and perplexity values\n",
        "  df = df.append({'lambda': l ,'perp_uni': sf_uni_perp, 'perp_bi': sf_bi_perp}, ignore_index=True)\n"
      ]
    },
    {
      "cell_type": "code",
      "execution_count": 58,
      "metadata": {
        "colab": {
          "base_uri": "https://localhost:8080/",
          "height": 300
        },
        "id": "WOhsjMZyZkv3",
        "outputId": "28552260-a477-4c27-f4bc-9c96ec940336"
      },
      "outputs": [
        {
          "output_type": "execute_result",
          "data": {
            "text/plain": [
              "   lambda    perp_uni     perp_bi\n",
              "0   0.001  378.655185   13.537326\n",
              "1   0.050  378.893797   24.350821\n",
              "2   0.100  379.151249   29.475224\n",
              "3   1.000  385.342376   66.496547\n",
              "4   1.500  389.527800   78.348777\n",
              "5   2.000  394.005223   88.175619\n",
              "6   3.000  403.511048  104.259137\n",
              "7   4.000  413.462074  117.379624"
            ],
            "text/html": [
              "\n",
              "  <div id=\"df-737bb9f5-e721-4ce7-ab57-efbfc566fdf8\">\n",
              "    <div class=\"colab-df-container\">\n",
              "      <div>\n",
              "<style scoped>\n",
              "    .dataframe tbody tr th:only-of-type {\n",
              "        vertical-align: middle;\n",
              "    }\n",
              "\n",
              "    .dataframe tbody tr th {\n",
              "        vertical-align: top;\n",
              "    }\n",
              "\n",
              "    .dataframe thead th {\n",
              "        text-align: right;\n",
              "    }\n",
              "</style>\n",
              "<table border=\"1\" class=\"dataframe\">\n",
              "  <thead>\n",
              "    <tr style=\"text-align: right;\">\n",
              "      <th></th>\n",
              "      <th>lambda</th>\n",
              "      <th>perp_uni</th>\n",
              "      <th>perp_bi</th>\n",
              "    </tr>\n",
              "  </thead>\n",
              "  <tbody>\n",
              "    <tr>\n",
              "      <th>0</th>\n",
              "      <td>0.001</td>\n",
              "      <td>378.655185</td>\n",
              "      <td>13.537326</td>\n",
              "    </tr>\n",
              "    <tr>\n",
              "      <th>1</th>\n",
              "      <td>0.050</td>\n",
              "      <td>378.893797</td>\n",
              "      <td>24.350821</td>\n",
              "    </tr>\n",
              "    <tr>\n",
              "      <th>2</th>\n",
              "      <td>0.100</td>\n",
              "      <td>379.151249</td>\n",
              "      <td>29.475224</td>\n",
              "    </tr>\n",
              "    <tr>\n",
              "      <th>3</th>\n",
              "      <td>1.000</td>\n",
              "      <td>385.342376</td>\n",
              "      <td>66.496547</td>\n",
              "    </tr>\n",
              "    <tr>\n",
              "      <th>4</th>\n",
              "      <td>1.500</td>\n",
              "      <td>389.527800</td>\n",
              "      <td>78.348777</td>\n",
              "    </tr>\n",
              "    <tr>\n",
              "      <th>5</th>\n",
              "      <td>2.000</td>\n",
              "      <td>394.005223</td>\n",
              "      <td>88.175619</td>\n",
              "    </tr>\n",
              "    <tr>\n",
              "      <th>6</th>\n",
              "      <td>3.000</td>\n",
              "      <td>403.511048</td>\n",
              "      <td>104.259137</td>\n",
              "    </tr>\n",
              "    <tr>\n",
              "      <th>7</th>\n",
              "      <td>4.000</td>\n",
              "      <td>413.462074</td>\n",
              "      <td>117.379624</td>\n",
              "    </tr>\n",
              "  </tbody>\n",
              "</table>\n",
              "</div>\n",
              "      <button class=\"colab-df-convert\" onclick=\"convertToInteractive('df-737bb9f5-e721-4ce7-ab57-efbfc566fdf8')\"\n",
              "              title=\"Convert this dataframe to an interactive table.\"\n",
              "              style=\"display:none;\">\n",
              "        \n",
              "  <svg xmlns=\"http://www.w3.org/2000/svg\" height=\"24px\"viewBox=\"0 0 24 24\"\n",
              "       width=\"24px\">\n",
              "    <path d=\"M0 0h24v24H0V0z\" fill=\"none\"/>\n",
              "    <path d=\"M18.56 5.44l.94 2.06.94-2.06 2.06-.94-2.06-.94-.94-2.06-.94 2.06-2.06.94zm-11 1L8.5 8.5l.94-2.06 2.06-.94-2.06-.94L8.5 2.5l-.94 2.06-2.06.94zm10 10l.94 2.06.94-2.06 2.06-.94-2.06-.94-.94-2.06-.94 2.06-2.06.94z\"/><path d=\"M17.41 7.96l-1.37-1.37c-.4-.4-.92-.59-1.43-.59-.52 0-1.04.2-1.43.59L10.3 9.45l-7.72 7.72c-.78.78-.78 2.05 0 2.83L4 21.41c.39.39.9.59 1.41.59.51 0 1.02-.2 1.41-.59l7.78-7.78 2.81-2.81c.8-.78.8-2.07 0-2.86zM5.41 20L4 18.59l7.72-7.72 1.47 1.35L5.41 20z\"/>\n",
              "  </svg>\n",
              "      </button>\n",
              "      \n",
              "  <style>\n",
              "    .colab-df-container {\n",
              "      display:flex;\n",
              "      flex-wrap:wrap;\n",
              "      gap: 12px;\n",
              "    }\n",
              "\n",
              "    .colab-df-convert {\n",
              "      background-color: #E8F0FE;\n",
              "      border: none;\n",
              "      border-radius: 50%;\n",
              "      cursor: pointer;\n",
              "      display: none;\n",
              "      fill: #1967D2;\n",
              "      height: 32px;\n",
              "      padding: 0 0 0 0;\n",
              "      width: 32px;\n",
              "    }\n",
              "\n",
              "    .colab-df-convert:hover {\n",
              "      background-color: #E2EBFA;\n",
              "      box-shadow: 0px 1px 2px rgba(60, 64, 67, 0.3), 0px 1px 3px 1px rgba(60, 64, 67, 0.15);\n",
              "      fill: #174EA6;\n",
              "    }\n",
              "\n",
              "    [theme=dark] .colab-df-convert {\n",
              "      background-color: #3B4455;\n",
              "      fill: #D2E3FC;\n",
              "    }\n",
              "\n",
              "    [theme=dark] .colab-df-convert:hover {\n",
              "      background-color: #434B5C;\n",
              "      box-shadow: 0px 1px 3px 1px rgba(0, 0, 0, 0.15);\n",
              "      filter: drop-shadow(0px 1px 2px rgba(0, 0, 0, 0.3));\n",
              "      fill: #FFFFFF;\n",
              "    }\n",
              "  </style>\n",
              "\n",
              "      <script>\n",
              "        const buttonEl =\n",
              "          document.querySelector('#df-737bb9f5-e721-4ce7-ab57-efbfc566fdf8 button.colab-df-convert');\n",
              "        buttonEl.style.display =\n",
              "          google.colab.kernel.accessAllowed ? 'block' : 'none';\n",
              "\n",
              "        async function convertToInteractive(key) {\n",
              "          const element = document.querySelector('#df-737bb9f5-e721-4ce7-ab57-efbfc566fdf8');\n",
              "          const dataTable =\n",
              "            await google.colab.kernel.invokeFunction('convertToInteractive',\n",
              "                                                     [key], {});\n",
              "          if (!dataTable) return;\n",
              "\n",
              "          const docLinkHtml = 'Like what you see? Visit the ' +\n",
              "            '<a target=\"_blank\" href=https://colab.research.google.com/notebooks/data_table.ipynb>data table notebook</a>'\n",
              "            + ' to learn more about interactive tables.';\n",
              "          element.innerHTML = '';\n",
              "          dataTable['output_type'] = 'display_data';\n",
              "          await google.colab.output.renderOutput(dataTable, element);\n",
              "          const docLink = document.createElement('div');\n",
              "          docLink.innerHTML = docLinkHtml;\n",
              "          element.appendChild(docLink);\n",
              "        }\n",
              "      </script>\n",
              "    </div>\n",
              "  </div>\n",
              "  "
            ]
          },
          "metadata": {},
          "execution_count": 58
        }
      ],
      "source": [
        "df"
      ]
    },
    {
      "cell_type": "code",
      "execution_count": 60,
      "metadata": {
        "colab": {
          "base_uri": "https://localhost:8080/",
          "height": 312
        },
        "id": "U-l6V4apjJTg",
        "outputId": "ebe53cff-b3c8-4335-ae8a-fa5cc8d15888"
      },
      "outputs": [
        {
          "output_type": "execute_result",
          "data": {
            "text/plain": [
              "<matplotlib.axes._subplots.AxesSubplot at 0x7f248dd57650>"
            ]
          },
          "metadata": {},
          "execution_count": 60
        },
        {
          "output_type": "display_data",
          "data": {
            "text/plain": [
              "<Figure size 432x288 with 1 Axes>"
            ],
            "image/png": "[encoded data removed]"
          },
          "metadata": {
            "needs_background": "light"
          }
        }
      ],
      "source": [
        "# plotting the graph for different values of lambda \n",
        "# and their respective perplexity for unigram model\n",
        "\n",
        "df.plot(x='lambda', y='perp_uni', xlabel= 'Lambda', ylabel = 'Perplexity'\n",
        "      , title = \"Perplexity of Unigram Model with different values of lambda\")"
      ]
    },
    {
      "cell_type": "code",
      "execution_count": 61,
      "metadata": {
        "colab": {
          "base_uri": "https://localhost:8080/",
          "height": 312
        },
        "id": "nAqhXeswoC5o",
        "outputId": "d3fd0ff6-9a4d-4e7b-af79-e74eaea309b2"
      },
      "outputs": [
        {
          "output_type": "execute_result",
          "data": {
            "text/plain": [
              "<matplotlib.axes._subplots.AxesSubplot at 0x7f248dc7c510>"
            ]
          },
          "metadata": {},
          "execution_count": 61
        },
        {
          "output_type": "display_data",
          "data": {
            "text/plain": [
              "<Figure size 432x288 with 1 Axes>"
            ],
            "image/png": "[encoded data removed]"
          },
          "metadata": {
            "needs_background": "light"
          }
        }
      ],
      "source": [
        "# plotting the graph for different values of lambda \n",
        "# and their respective perplexity for bigram model\n",
        "\n",
        "df.plot(x='lambda', y='perp_bi', xlabel= 'Lambda', ylabel = 'Perplexity'\n",
        "      , title = \"Perplexity of Bigram Model with different values of lambda\")"
      ]
    },
    {
      "cell_type": "markdown",
      "metadata": {
        "id": "TkWue8Z4ophY"
      },
      "source": [
        "**(c) Pick the best lambda value(s) and train again your unigram and bigram models on training  data + developing data. Report new perplexity of your unigram and bigram models on the test data.**"
      ]
    },
    {
      "cell_type": "markdown",
      "metadata": {
        "id": "zCL3lN9Yo5ss"
      },
      "source": [
        "We will consider lambda value as 0.001 for Unigram model and Bigram model.\n"
      ]
    },
    {
      "cell_type": "code",
      "execution_count": 62,
      "metadata": {
        "colab": {
          "base_uri": "https://localhost:8080/"
        },
        "id": "aWAJygEpopKZ",
        "outputId": "2d5e9108-53e0-49eb-a873-9f8a224dfef5"
      },
      "outputs": [
        {
          "output_type": "stream",
          "name": "stdout",
          "text": [
            "Total corpus for training + validation data before preprocessing :  979662\n",
            "No of sentences in Corpus: 45873\n",
            "Vocabulary Size of training + validation data:  44143\n"
          ]
        }
      ],
      "source": [
        "# merge the training and validation data\n",
        "d_trn_val = dataset[0:45873]\n",
        "\n",
        "# Total no.of tokens in dataset for unigram calculation\n",
        "tok_trn_val = list(itertools.chain.from_iterable(d_trn_val))\n",
        "tot_tok_trn_val = len(tok_trn_val)\n",
        "print(\"Total corpus for training + validation data before preprocessing : \", tot_tok_trn_val)\n",
        "\n",
        "#Preprocess data\n",
        "d_trnval_pre = preprocess_data(d_trn_val)\n",
        "data_trn_val = list(itertools.chain.from_iterable(d_trnval_pre))\n",
        "\n",
        "#Vocabulary size\n",
        "dtrnval_vocab = vocab(d_trn_val)\n",
        "dtrnval_vocab_size = len(dtrnval_vocab)\n",
        "print(\"Vocabulary Size of training + validation data: \", dtrnval_vocab_size)\n"
      ]
    },
    {
      "cell_type": "code",
      "execution_count": 63,
      "metadata": {
        "colab": {
          "base_uri": "https://localhost:8080/"
        },
        "id": "xHpkk66Atcvi",
        "outputId": "d0da4513-4ca2-4a30-ba87-4c9f88ac941c"
      },
      "outputs": [
        {
          "output_type": "stream",
          "name": "stdout",
          "text": [
            "No of unique words in corpus : 44143\n",
            "No of words in corpus: 860874\n"
          ]
        }
      ],
      "source": [
        "# Unigram and Bigram frequencies for new dataset\n",
        "nds_unigram_freq = cal_unique_freq(d_trnval_pre)\n",
        "nds_bigram_freq = cal_bigram_freq(d_trnval_pre)\n",
        "#bigram_unique_word_count_nds = len(nds_unigram_freq)\n",
        "\n",
        "#Bigrams for new dataset\n",
        "bigrams_trnval = list(zip(*[data_trn_val[i:] for i in range(2)]))"
      ]
    },
    {
      "cell_type": "code",
      "execution_count": 64,
      "metadata": {
        "id": "tJn9BWNJsA7E"
      },
      "outputs": [],
      "source": [
        "#Calculating smoothened frequencies\n",
        "suni_f = add_l_smoothing(0.001, nds_unigram_freq)\n",
        "sbi_f = add_l_smoothing(0.001, nds_bigram_freq)\n",
        "\n",
        "#Probablities for smoothened freq\n",
        "suni_prob = cal_unigram_prob(suni_f, tot_tok_trn_val + 0.001 * dtrnval_vocab_size)\n",
        "sbi_prob = cal_bigram_prob(sbi_f, nds_unigram_freq, 0.001* dtrnval_vocab_size, add_l=True)\n",
        "\n",
        "\n",
        "#Perplexity of the model on validation data\n",
        "suni_perp = perplexity(data_trn_val, suni_prob)\n",
        "sbi_perp = perplexity(bigrams_trnval, sbi_prob)"
      ]
    },
    {
      "cell_type": "code",
      "execution_count": 65,
      "metadata": {
        "colab": {
          "base_uri": "https://localhost:8080/"
        },
        "id": "P48OtDENvzXR",
        "outputId": "cb560c79-7f5a-466c-86b3-9ed39db8287f"
      },
      "outputs": [
        {
          "output_type": "stream",
          "name": "stdout",
          "text": [
            "Perplexity of unigram model with add-lambda smoothing with lambda value 0.001 :  707.9696504676833\n",
            "Perplexity of bigram model with add-lambda smoothing with lambda value 0.001 :  76.6541522375984\n"
          ]
        }
      ],
      "source": [
        "print(\"Perplexity of unigram model with add-lambda smoothing with lambda value 0.001 : \",suni_perp )\n",
        "print(\"Perplexity of bigram model with add-lambda smoothing with lambda value 0.001 : \",sbi_perp )"
      ]
    },
    {
      "cell_type": "code",
      "execution_count": 66,
      "metadata": {
        "colab": {
          "base_uri": "https://localhost:8080/"
        },
        "id": "voDgtDDPwBln",
        "outputId": "de349652-d388-490e-9df4-e218367bf66c"
      },
      "outputs": [
        {
          "output_type": "stream",
          "name": "stdout",
          "text": [
            "Perplexity of unigram model on test data:  370.5289096515584\n",
            "Perplexity of bigram model on test data:  14.170457839076635\n"
          ]
        }
      ],
      "source": [
        "# Perplexity on test data for both models\n",
        "\n",
        "#Perplexity of unigram test data\n",
        "uni_test_perp = perplexity(d_tst, suni_prob)\n",
        "print(\"Perplexity of unigram model on test data: \", uni_test_perp)\n",
        "\n",
        "#Perplexity of bigrams test data\n",
        "bi_val_perp = perplexity(bigrams_tst, sbi_prob)\n",
        "print(\"Perplexity of bigram model on test data: \", bi_val_perp)"
      ]
    },
    {
      "cell_type": "markdown",
      "metadata": {
        "id": "5J2R8qv0xMHk"
      },
      "source": [
        "***Perplexity of unigram model on test data:  370.5289096515584***\n",
        "\n",
        "***Perplexity of bigram model on test data:  14.170457839076635***\n",
        "\n",
        "***Perplexity is lower with add-lambda smoothing than before.***"
      ]
    },
    {
      "cell_type": "markdown",
      "metadata": {
        "id": "6kVzItkzyS77"
      },
      "source": [
        "**(d) Generate random sentences based on the unigram and bigram language models from part(c). Report 5 sentences per model by sampling words from each model continuously until meeting the stop symbol <\\s>.**"
      ]
    },
    {
      "cell_type": "code",
      "execution_count": 67,
      "metadata": {
        "id": "nuEgf8fULO5v"
      },
      "outputs": [],
      "source": [
        "#Function to get the context and counter for ngram models\n",
        "def get_context_counter(freq, n):\n",
        "  context = {}\n",
        "  ngram_counter = {}\n",
        "\n",
        "  for ngram in freq.keys():\n",
        "        if ngram in ngram_counter:\n",
        "            ngram_counter[ngram] += 1.0\n",
        "        else:\n",
        "            ngram_counter[ngram] = 1.0\n",
        "        if n == 2:\n",
        "          prev_words, target_word = ngram\n",
        "        elif n == 3:\n",
        "          prev_words = ngram[0:2]\n",
        "          target_word = ngram[2]\n",
        "        if prev_words in context:\n",
        "            context[prev_words].append(target_word)\n",
        "        else:\n",
        "            context[prev_words] = [target_word]\n",
        "  return context, ngram_counter"
      ]
    },
    {
      "cell_type": "code",
      "execution_count": 100,
      "metadata": {
        "id": "XrgpKAoQNsf0"
      },
      "outputs": [],
      "source": [
        "#Given a context, function fetches the next word to append to a sequence\n",
        "def random_token(word, prob, context, n):\n",
        "  r = random.random()\n",
        "  map_to_probs = {}\n",
        "  if n > 2:\n",
        "    token_of_interest = context[word] \n",
        "    for token in token_of_interest:\n",
        "        ngram = word + (token,)\n",
        "        map_to_probs[token] = prob.get(ngram)\n",
        "  else:\n",
        "    for i in word:\n",
        "      token_of_interest = context[i] \n",
        "      given_word = i\n",
        "    for token in token_of_interest:\n",
        "        map_to_probs[token] = prob.get((given_word, token))\n",
        "\n",
        "  summ = 0\n",
        "  for token in sorted(map_to_probs):\n",
        "        summ += map_to_probs[token]\n",
        "        if summ > r:\n",
        "            return token\n",
        "  return '</s>'"
      ]
    },
    {
      "cell_type": "code",
      "execution_count": 69,
      "metadata": {
        "id": "taebHMZvP8dC"
      },
      "outputs": [],
      "source": [
        "#Generate a sentence with token_count = number of words\n",
        "def generate_text(n, prob, context):\n",
        "  context_queue = (n-1) * ['<s>']\n",
        "  result = []\n",
        "  obj = \"\"\n",
        "  while obj != '</s>':\n",
        "      if n > 2:\n",
        "        obj = random_token(tuple(context_queue), prob, context, n)\n",
        "      else:\n",
        "        obj = random_token(context_queue, prob, context, n)\n",
        "      if (obj != '</s>' and obj != '<s>'):\n",
        "        result.append(obj)\n",
        "      if n > 1:\n",
        "          context_queue.pop(0)\n",
        "          #if obj == '</s>':\n",
        "          #    context_queue = (n - 1) * ['<s>']\n",
        "          #else:\n",
        "          context_queue.append(obj)\n",
        "  return ' '.join(result)"
      ]
    },
    {
      "cell_type": "code",
      "execution_count": 101,
      "metadata": {
        "colab": {
          "base_uri": "https://localhost:8080/"
        },
        "id": "hxzG7F43Uh3N",
        "outputId": "3e245b03-63f6-45e5-eb63-96ef7709c914"
      },
      "outputs": [
        {
          "output_type": "stream",
          "name": "stdout",
          "text": [
            "0  :  mickey went to those who protected\n",
            "1  :  i could possess\n",
            "2  :  gun\n",
            "3  :  i have passed until\n",
            "4  :  it in helena\n"
          ]
        }
      ],
      "source": [
        "#Generate 5 sentences for bigram\n",
        "context_sbi, counter_sbi = get_context_counter(sbi_f, 2)\n",
        "\n",
        "for i in range(0,5):\n",
        "  sentence = generate_text(2, sbi_prob, context_sbi)\n",
        "  print(i,\" : \", sentence)\n"
      ]
    },
    {
      "cell_type": "code",
      "execution_count": 71,
      "metadata": {
        "id": "G4gj3-qzHtaq"
      },
      "outputs": [],
      "source": [
        "# For Unigram\n",
        "\n",
        "def next(dict):\n",
        "    total = 0\n",
        "    for key, value in dict.items():\n",
        "        total += float(value)\n",
        "    random_probability = random.uniform(0, total)       # create random number\n",
        "    temp = 0\n",
        "    for word, probability in dict.items():\n",
        "        if temp + float(probability) > random_probability: # When you reach the random number take the word.\n",
        "            return word\n",
        "        temp += float(probability)  \n",
        "\n",
        "def generate_sent_uni(dict):\n",
        "    sentence =[]\n",
        "    generated_word = ''\n",
        "    while (generated_word != '</s>' and generated_word != '<s>'):\n",
        "      generated_word = next(dict)\n",
        "      if (generated_word != '</s>' and generated_word != '<s>'):\n",
        "        sentence.append(generated_word)\n",
        "    \n",
        "    return ' '.join(sentence)\n"
      ]
    },
    {
      "cell_type": "code",
      "execution_count": 75,
      "metadata": {
        "colab": {
          "base_uri": "https://localhost:8080/"
        },
        "id": "oizaMjLlbSCD",
        "outputId": "5fbac899-2c7f-4707-d951-a448f5c0f7ac"
      },
      "outputs": [
        {
          "output_type": "stream",
          "name": "stdout",
          "text": [
            "0  :  processors\n",
            "1  :  september to tumbled to the seem to to it his this\n",
            "2  :  which he\n",
            "3  :  beyond fairway gathered unripe like eight 9 only holiday was extensive of\n",
            "4  :  still next other\n"
          ]
        }
      ],
      "source": [
        "#Generate 5 sentences for unigram\n",
        "for i in range(0,5):\n",
        "  sentence = generate_sent_uni(suni_prob)\n",
        "  print(i,\" : \", sentence)\n"
      ]
    },
    {
      "cell_type": "markdown",
      "metadata": {
        "id": "jjQ44roexHzs"
      },
      "source": [
        "**(e) Choose at least one additional extension to implement. The available options are tri-gram, Good-Turing smoothing, interpolation method, and creative handling of unknownwords. Verify quantitative improvement by measuring 1) the perplexity on test data; andqualitative improvement by retrying 2) the random sentence generation in part (d).**"
      ]
    },
    {
      "cell_type": "markdown",
      "metadata": {
        "id": "7Jsg0q2rdsAO"
      },
      "source": [
        "We chose to implement the **trigram model** as an extension."
      ]
    },
    {
      "cell_type": "code",
      "execution_count": 76,
      "metadata": {
        "id": "-9L_J-kE1frb"
      },
      "outputs": [],
      "source": [
        "#Calculating the trigram frequencies of set of words\n",
        "def cal_trigram_freq(lines):\n",
        "    trigram_frequencies = dict()\n",
        "    for sentence in lines:\n",
        "        given_word = None\n",
        "        prev_given_word = None\n",
        "        for word in sentence:\n",
        "            if prev_given_word != None:\n",
        "              if given_word != None:\n",
        "                  trigram_frequencies[(prev_given_word, given_word, word)] = trigram_frequencies.get((prev_given_word, given_word, word),0) + 1\n",
        "                  prev_given_word = given_word\n",
        "                  given_word = word\n",
        "              else:\n",
        "                  given_word = word\n",
        "            else:\n",
        "              prev_given_word = word  \n",
        "    return trigram_frequencies"
      ]
    },
    {
      "cell_type": "code",
      "execution_count": 77,
      "metadata": {
        "id": "PuLknI7cCl3Y"
      },
      "outputs": [],
      "source": [
        "tri_f = cal_trigram_freq(d_trnval_pre)"
      ]
    },
    {
      "cell_type": "code",
      "execution_count": 78,
      "metadata": {
        "id": "DSlOwpHIoVdV"
      },
      "outputs": [],
      "source": [
        "#Calculating trigram probabilities\n",
        "def cal_trigram_prob(tri_freq, bi_freq, denom = 0, smooth = False):   \n",
        "  trigram_model = dict()\n",
        "  for pair, count in tri_freq.items():\n",
        "    bigram_pair = pair[0:2]\n",
        "    if smooth:\n",
        "      trigram_model[pair] = count / (bi_freq[bigram_pair] + denom)\n",
        "      #trigram_model[pair] = count / bi_freq[bigram_pair]\n",
        "    else:\n",
        "      trigram_model[pair] = count / bi_freq[bigram_pair]\n",
        "  sorted_z = sorted(trigram_model.items(), key=lambda kv: kv[1])\n",
        "  sorted_model_trigram = collections.OrderedDict(sorted_z)\n",
        "  return sorted_model_trigram"
      ]
    },
    {
      "cell_type": "code",
      "execution_count": 79,
      "metadata": {
        "id": "TO1NDtr5rIrC"
      },
      "outputs": [],
      "source": [
        "tri_prob = cal_trigram_prob(tri_f, nds_bigram_freq)"
      ]
    },
    {
      "cell_type": "code",
      "execution_count": 80,
      "metadata": {
        "colab": {
          "base_uri": "https://localhost:8080/"
        },
        "id": "ioShzGAXsQwx",
        "outputId": "ff1108db-9a90-469f-9c68-8485bfdace28"
      },
      "outputs": [
        {
          "output_type": "execute_result",
          "data": {
            "text/plain": [
              "5.190404218992427"
            ]
          },
          "metadata": {},
          "execution_count": 80
        }
      ],
      "source": [
        "# Perplexity of Trigram model on training data\n",
        "trigrams_trn = list(zip(*[data_trn_val[i:] for i in range(3)]))\n",
        "tri_trn_perp = perplexity(trigrams_trn, tri_prob)\n",
        "tri_trn_perp\n"
      ]
    },
    {
      "cell_type": "code",
      "execution_count": 81,
      "metadata": {
        "colab": {
          "base_uri": "https://localhost:8080/"
        },
        "id": "4NP0iNuKjaqv",
        "outputId": "8693ae09-54ed-4f2f-9aef-db70a43af73b"
      },
      "outputs": [
        {
          "output_type": "execute_result",
          "data": {
            "text/plain": [
              "2.1930950498971473"
            ]
          },
          "metadata": {},
          "execution_count": 81
        }
      ],
      "source": [
        "# Perplexity of Trigram model on test data\n",
        "trigrams_tst = list(zip(*[d_tst[i:] for i in range(3)]))\n",
        "tri_tst_perp = perplexity(trigrams_tst, tri_prob)\n",
        "tri_tst_perp"
      ]
    },
    {
      "cell_type": "markdown",
      "metadata": {
        "id": "myy76xDjj_ZM"
      },
      "source": [
        "Perplexity of Trigram model on Training Data : 5.190404218992427 \\\n",
        "Perplexity of Trigram model on Test Data: 2.1930950498971473"
      ]
    },
    {
      "cell_type": "markdown",
      "metadata": {
        "id": "-PVEkfdbkABf"
      },
      "source": [
        "**Add-lambda Smoothing for Trigram Model**"
      ]
    },
    {
      "cell_type": "code",
      "execution_count": 82,
      "metadata": {
        "id": "n4uZ1FCej-lX"
      },
      "outputs": [],
      "source": [
        "#Checking for different values of lambda to get the best value where the perplexity is the lowest.\n",
        "lamda = [0.001,0.05,0.1,1,1.5,2,3,4] \n",
        "\n",
        "sfreq_tri = dict()\n",
        "df1 = pd.DataFrame(columns=['lambda', 'perp_tri'])\n",
        "\n",
        "for l in lamda:\n",
        "  #Calculating smoothened frequencies\n",
        "  sfreq_tri = add_l_smoothing(l,tri_f)\n",
        "\n",
        "  #Probablities for smoothened freq\n",
        "  sf_tri_prob = cal_trigram_prob(sfreq_tri, nds_bigram_freq, l*dtrnval_vocab_size, smooth = True)\n",
        "\n",
        "  #Perplexity of the model on validation data\n",
        "  sf_tri_perp = perplexity(trigrams_trn, sf_tri_prob)\n",
        "\n",
        "  #collecting lambda and perplexity values\n",
        "  df1 = df1.append({'lambda': l ,'perp_tri': sf_tri_perp}, ignore_index=True)"
      ]
    },
    {
      "cell_type": "code",
      "execution_count": 83,
      "metadata": {
        "colab": {
          "base_uri": "https://localhost:8080/",
          "height": 300
        },
        "id": "JRkhkU_vm_SQ",
        "outputId": "fd0b90ee-d21b-4e8f-c59b-5493f18390ca"
      },
      "outputs": [
        {
          "output_type": "execute_result",
          "data": {
            "text/plain": [
              "   lambda     perp_tri\n",
              "0   0.001    36.057372\n",
              "1   0.050   662.109225\n",
              "2   0.100  1145.291467\n",
              "3   1.000  5520.871187\n",
              "4   1.500  6735.445538\n",
              "5   2.000  7619.739674\n",
              "6   3.000  8851.465872\n",
              "7   4.000  9689.876795"
            ],
            "text/html": [
              "\n",
              "  <div id=\"df-6fc7aa3e-b84b-40a4-87d4-fb760a9e9ef3\">\n",
              "    <div class=\"colab-df-container\">\n",
              "      <div>\n",
              "<style scoped>\n",
              "    .dataframe tbody tr th:only-of-type {\n",
              "        vertical-align: middle;\n",
              "    }\n",
              "\n",
              "    .dataframe tbody tr th {\n",
              "        vertical-align: top;\n",
              "    }\n",
              "\n",
              "    .dataframe thead th {\n",
              "        text-align: right;\n",
              "    }\n",
              "</style>\n",
              "<table border=\"1\" class=\"dataframe\">\n",
              "  <thead>\n",
              "    <tr style=\"text-align: right;\">\n",
              "      <th></th>\n",
              "      <th>lambda</th>\n",
              "      <th>perp_tri</th>\n",
              "    </tr>\n",
              "  </thead>\n",
              "  <tbody>\n",
              "    <tr>\n",
              "      <th>0</th>\n",
              "      <td>0.001</td>\n",
              "      <td>36.057372</td>\n",
              "    </tr>\n",
              "    <tr>\n",
              "      <th>1</th>\n",
              "      <td>0.050</td>\n",
              "      <td>662.109225</td>\n",
              "    </tr>\n",
              "    <tr>\n",
              "      <th>2</th>\n",
              "      <td>0.100</td>\n",
              "      <td>1145.291467</td>\n",
              "    </tr>\n",
              "    <tr>\n",
              "      <th>3</th>\n",
              "      <td>1.000</td>\n",
              "      <td>5520.871187</td>\n",
              "    </tr>\n",
              "    <tr>\n",
              "      <th>4</th>\n",
              "      <td>1.500</td>\n",
              "      <td>6735.445538</td>\n",
              "    </tr>\n",
              "    <tr>\n",
              "      <th>5</th>\n",
              "      <td>2.000</td>\n",
              "      <td>7619.739674</td>\n",
              "    </tr>\n",
              "    <tr>\n",
              "      <th>6</th>\n",
              "      <td>3.000</td>\n",
              "      <td>8851.465872</td>\n",
              "    </tr>\n",
              "    <tr>\n",
              "      <th>7</th>\n",
              "      <td>4.000</td>\n",
              "      <td>9689.876795</td>\n",
              "    </tr>\n",
              "  </tbody>\n",
              "</table>\n",
              "</div>\n",
              "      <button class=\"colab-df-convert\" onclick=\"convertToInteractive('df-6fc7aa3e-b84b-40a4-87d4-fb760a9e9ef3')\"\n",
              "              title=\"Convert this dataframe to an interactive table.\"\n",
              "              style=\"display:none;\">\n",
              "        \n",
              "  <svg xmlns=\"http://www.w3.org/2000/svg\" height=\"24px\"viewBox=\"0 0 24 24\"\n",
              "       width=\"24px\">\n",
              "    <path d=\"M0 0h24v24H0V0z\" fill=\"none\"/>\n",
              "    <path d=\"M18.56 5.44l.94 2.06.94-2.06 2.06-.94-2.06-.94-.94-2.06-.94 2.06-2.06.94zm-11 1L8.5 8.5l.94-2.06 2.06-.94-2.06-.94L8.5 2.5l-.94 2.06-2.06.94zm10 10l.94 2.06.94-2.06 2.06-.94-2.06-.94-.94-2.06-.94 2.06-2.06.94z\"/><path d=\"M17.41 7.96l-1.37-1.37c-.4-.4-.92-.59-1.43-.59-.52 0-1.04.2-1.43.59L10.3 9.45l-7.72 7.72c-.78.78-.78 2.05 0 2.83L4 21.41c.39.39.9.59 1.41.59.51 0 1.02-.2 1.41-.59l7.78-7.78 2.81-2.81c.8-.78.8-2.07 0-2.86zM5.41 20L4 18.59l7.72-7.72 1.47 1.35L5.41 20z\"/>\n",
              "  </svg>\n",
              "      </button>\n",
              "      \n",
              "  <style>\n",
              "    .colab-df-container {\n",
              "      display:flex;\n",
              "      flex-wrap:wrap;\n",
              "      gap: 12px;\n",
              "    }\n",
              "\n",
              "    .colab-df-convert {\n",
              "      background-color: #E8F0FE;\n",
              "      border: none;\n",
              "      border-radius: 50%;\n",
              "      cursor: pointer;\n",
              "      display: none;\n",
              "      fill: #1967D2;\n",
              "      height: 32px;\n",
              "      padding: 0 0 0 0;\n",
              "      width: 32px;\n",
              "    }\n",
              "\n",
              "    .colab-df-convert:hover {\n",
              "      background-color: #E2EBFA;\n",
              "      box-shadow: 0px 1px 2px rgba(60, 64, 67, 0.3), 0px 1px 3px 1px rgba(60, 64, 67, 0.15);\n",
              "      fill: #174EA6;\n",
              "    }\n",
              "\n",
              "    [theme=dark] .colab-df-convert {\n",
              "      background-color: #3B4455;\n",
              "      fill: #D2E3FC;\n",
              "    }\n",
              "\n",
              "    [theme=dark] .colab-df-convert:hover {\n",
              "      background-color: #434B5C;\n",
              "      box-shadow: 0px 1px 3px 1px rgba(0, 0, 0, 0.15);\n",
              "      filter: drop-shadow(0px 1px 2px rgba(0, 0, 0, 0.3));\n",
              "      fill: #FFFFFF;\n",
              "    }\n",
              "  </style>\n",
              "\n",
              "      <script>\n",
              "        const buttonEl =\n",
              "          document.querySelector('#df-6fc7aa3e-b84b-40a4-87d4-fb760a9e9ef3 button.colab-df-convert');\n",
              "        buttonEl.style.display =\n",
              "          google.colab.kernel.accessAllowed ? 'block' : 'none';\n",
              "\n",
              "        async function convertToInteractive(key) {\n",
              "          const element = document.querySelector('#df-6fc7aa3e-b84b-40a4-87d4-fb760a9e9ef3');\n",
              "          const dataTable =\n",
              "            await google.colab.kernel.invokeFunction('convertToInteractive',\n",
              "                                                     [key], {});\n",
              "          if (!dataTable) return;\n",
              "\n",
              "          const docLinkHtml = 'Like what you see? Visit the ' +\n",
              "            '<a target=\"_blank\" href=https://colab.research.google.com/notebooks/data_table.ipynb>data table notebook</a>'\n",
              "            + ' to learn more about interactive tables.';\n",
              "          element.innerHTML = '';\n",
              "          dataTable['output_type'] = 'display_data';\n",
              "          await google.colab.output.renderOutput(dataTable, element);\n",
              "          const docLink = document.createElement('div');\n",
              "          docLink.innerHTML = docLinkHtml;\n",
              "          element.appendChild(docLink);\n",
              "        }\n",
              "      </script>\n",
              "    </div>\n",
              "  </div>\n",
              "  "
            ]
          },
          "metadata": {},
          "execution_count": 83
        }
      ],
      "source": [
        "df1"
      ]
    },
    {
      "cell_type": "code",
      "execution_count": 85,
      "metadata": {
        "colab": {
          "base_uri": "https://localhost:8080/",
          "height": 312
        },
        "id": "plIxJWiCrCzv",
        "outputId": "75ccc89e-6d89-4bed-d865-a100d49cf5b7"
      },
      "outputs": [
        {
          "output_type": "execute_result",
          "data": {
            "text/plain": [
              "<matplotlib.axes._subplots.AxesSubplot at 0x7f2473747c10>"
            ]
          },
          "metadata": {},
          "execution_count": 85
        },
        {
          "output_type": "display_data",
          "data": {
            "text/plain": [
              "<Figure size 432x288 with 1 Axes>"
            ],
            "image/png": "[encoded data removed]"
          },
          "metadata": {
            "needs_background": "light"
          }
        }
      ],
      "source": [
        "# plotting the graph for different values of lambda \n",
        "# and their respective perplexity for triigram model\n",
        "\n",
        "df1.plot(x='lambda', y='perp_tri', xlabel= 'Lambda', ylabel = 'Perplexity'\n",
        "          , title = \"Perplexity of Trigram Model with different values of lambda\")"
      ]
    },
    {
      "cell_type": "markdown",
      "metadata": {
        "id": "_3LKpnbqpGn7"
      },
      "source": [
        "Taking lambda as 0.001, training the model again"
      ]
    },
    {
      "cell_type": "code",
      "execution_count": 86,
      "metadata": {
        "colab": {
          "base_uri": "https://localhost:8080/"
        },
        "id": "v5m_eUcxpFic",
        "outputId": "de8542e6-c883-45c8-d422-091cfd1644be"
      },
      "outputs": [
        {
          "output_type": "stream",
          "name": "stdout",
          "text": [
            "Perplexity of training data :  36.057372327142645\n"
          ]
        }
      ],
      "source": [
        "#Calculating smoothened frequencies\n",
        "stri_f = add_l_smoothing(0.001,tri_f)\n",
        "\n",
        "#Probablities for smoothened freq\n",
        "stri_prob = cal_trigram_prob(stri_f, nds_bigram_freq, 0.001 * dtrnval_vocab_size, smooth=True)\n",
        "\n",
        "#Perplexity of the model on training data\n",
        "sf_tri_trn_perp = perplexity(trigrams_trn, stri_prob)\n",
        "print(\"Perplexity of training data : \", sf_tri_trn_perp)"
      ]
    },
    {
      "cell_type": "code",
      "execution_count": 87,
      "metadata": {
        "colab": {
          "base_uri": "https://localhost:8080/"
        },
        "id": "wR0uQzYaqPtJ",
        "outputId": "93695412-705d-4a80-c1f8-91a3e7c6a50c"
      },
      "outputs": [
        {
          "output_type": "stream",
          "name": "stdout",
          "text": [
            "Perplexity of test data :  2.1930950498971473\n"
          ]
        }
      ],
      "source": [
        "sf_tri_tst_perp = perplexity(trigrams_tst, stri_prob)\n",
        "print(\"Perplexity of test data : \",tri_tst_perp)"
      ]
    },
    {
      "cell_type": "markdown",
      "metadata": {
        "id": "cnTPPBIIq7uF"
      },
      "source": [
        "**Random Sentence generation by Trigram model**"
      ]
    },
    {
      "cell_type": "code",
      "source": [
        "#Generate 5 sentences for trigram\n",
        "context_stri, counter_stri = get_context_counter(stri_f, 3)\n",
        "\n",
        "for i in range(0,5):\n",
        "  sentence = generate_text(3, stri_prob, context_stri)\n",
        "  print(i,\" : \", sentence)\n"
      ],
      "metadata": {
        "colab": {
          "base_uri": "https://localhost:8080/"
        },
        "id": "kXFEyndjKIj3",
        "outputId": "3408c14d-00e7-4273-d62e-5e103fd3f038"
      },
      "execution_count": 102,
      "outputs": [
        {
          "output_type": "stream",
          "name": "stdout",
          "text": [
            "0  :  they range\n",
            "1  :  the recently appointed to\n",
            "2  :  then he\n",
            "3  :  i dont know\n",
            "4  :  you may save valuable\n"
          ]
        }
      ]
    }
  ],
  "metadata": {
    "colab": {
      "collapsed_sections": [],
      "provenance": []
    },
    "kernelspec": {
      "display_name": "Python 3",
      "name": "python3"
    },
    "language_info": {
      "name": "python"
    }
  },
  "nbformat": 4,
  "nbformat_minor": 0
}
{
  "nbformat": 4,
  "nbformat_minor": 0,
  "metadata": {
    "colab": {
      "provenance": [],
      "collapsed_sections": []
    },
    "kernelspec": {
      "name": "python3",
      "display_name": "Python 3"
    },
    "language_info": {
      "name": "python"
    }
  },
  "cells": [
    {
      "cell_type": "code",
      "execution_count": null,
      "metadata": {
        "id": "GP6LEGTUuBiL"
      },
      "outputs": [],
      "source": [
        "import nltk\n",
        "import re\n",
        "nltk.download('brown')\n",
        "from nltk.corpus import brown \n",
        "from collections import Counter"
      ]
    },
    {
      "cell_type": "code",
      "source": [
        "print(brown.categories())\n",
        "print(len(brown.categories()))"
      ],
      "metadata": {
        "colab": {
          "base_uri": "https://localhost:8080/"
        },
        "id": "gAWRnt-fuigm",
        "outputId": "df71d967-7603-4d41-b4f7-e325b9ed9f57"
      },
      "execution_count": 100,
      "outputs": [
        {
          "output_type": "stream",
          "name": "stdout",
          "text": [
            "['adventure', 'belles_lettres', 'editorial', 'fiction', 'government', 'hobbies', 'humor', 'learned', 'lore', 'mystery', 'news', 'religion', 'reviews', 'romance', 'science_fiction']\n",
            "15\n"
          ]
        }
      ]
    },
    {
      "cell_type": "code",
      "source": [
        "data = nltk.corpus.brown.words()"
      ],
      "metadata": {
        "id": "GHPVAbi6uoS4"
      },
      "execution_count": 101,
      "outputs": []
    },
    {
      "cell_type": "code",
      "source": [
        "#Data Preprocessing\n",
        "sents = []\n",
        "sents = [ i.lower() for i in data ]   #coverting into lowercase\n",
        "sents = [re.sub(r'[^A-Za-z0-9]+', '', word) for word in sents]  #removing punctuations\n",
        "sents = [w  for w in sents if w != '']   #removing white spaces\n",
        "count_words = Counter(sents)  #count the no. of times a word repeats in the corpus\n",
        "#print(count_words.most_common(10))"
      ],
      "metadata": {
        "id": "Vt8vN09aX-le"
      },
      "execution_count": 102,
      "outputs": []
    },
    {
      "cell_type": "code",
      "source": [
        "def prob(word, N=sum(count_words.values())): \n",
        "    #Unigram probability is Probability of 'word' in the given corpus\n",
        "    return count_words[word] / N"
      ],
      "metadata": {
        "id": "pO63A6v2Q3Gx"
      },
      "execution_count": 103,
      "outputs": []
    },
    {
      "cell_type": "code",
      "source": [
        "def possibilities(word): \n",
        "    #Generate possible spelling corrections for word\n",
        "    return (known([word]) or known(edits1(word)) or known(edits2(word)) or [word])"
      ],
      "metadata": {
        "id": "rrSv_043TbS1"
      },
      "execution_count": 105,
      "outputs": []
    },
    {
      "cell_type": "code",
      "source": [
        "def known(words): \n",
        "    #The subset of `words` that appear in the dictionary of WORDS.\n",
        "    return set(w for w in words if w in count_words)"
      ],
      "metadata": {
        "id": "ZhUyHbnofe9q"
      },
      "execution_count": 106,
      "outputs": []
    },
    {
      "cell_type": "code",
      "source": [
        "def edits1(word):\n",
        "    #All edits that are one edit away from 'word'\n",
        "    letters    = 'abcdefghijklmnopqrstuvwxyz'\n",
        "    splits     = [(word[:i], word[i:])    for i in range(len(word) + 1)]\n",
        "    deletes    = [L + R[1:]               for L, R in splits if R]\n",
        "    transposes = [L + R[1] + R[0] + R[2:] for L, R in splits if len(R)>1]\n",
        "    replaces   = [L + c + R[1:]           for L, R in splits if R for c in letters]\n",
        "    inserts    = [L + c + R               for L, R in splits for c in letters]\n",
        "    #print(\"Deletes: \",deletes)\n",
        "    #print(\"transposes: \",transposes)\n",
        "    #print(\"replaces: \",replaces)\n",
        "    #print(\"inserts: \",inserts)\n",
        "    return set(deletes + transposes + replaces + inserts)"
      ],
      "metadata": {
        "id": "jH8MUOlxfkHW"
      },
      "execution_count": 107,
      "outputs": []
    },
    {
      "cell_type": "code",
      "source": [
        "def edits2(word): \n",
        "    #All edits that are two edits away from 'word'\n",
        "    return (e2 for e1 in edits1(word) for e2 in edits1(e1))"
      ],
      "metadata": {
        "id": "ZxxEqqeYfseP"
      },
      "execution_count": 108,
      "outputs": []
    },
    {
      "cell_type": "code",
      "source": [
        "def spell_checking(word): \n",
        "    #Most probable spelling correction for word\n",
        "    correct_word = max(possibilities(word), key=prob)\n",
        "    if correct_word != word:\n",
        "        return correct_word + \"(corrected)\"\n",
        "    else:\n",
        "        return word"
      ],
      "metadata": {
        "id": "bmL73eicSopN"
      },
      "execution_count": 109,
      "outputs": []
    },
    {
      "cell_type": "code",
      "source": [
        "#input_sent = input(\"Enter your Text here: \")\n",
        "input_sent = \"monney\"\n",
        "input_sents = input_sent.split()\n",
        "input_sents = [ i.lower() for i in input_sents ]\n",
        "input_sents = [re.sub(r'[^A-Za-z0-9]+', '', word) for word in input_sents]\n",
        "out_sents=[]\n",
        "for each in input_sents:\n",
        "  #spell_checking(each)\n",
        "  out_sents.append(spell_checking(each))\n",
        "out_sents = ' '.join(i for i in out_sents)\n",
        "print(out_sents)"
      ],
      "metadata": {
        "colab": {
          "base_uri": "https://localhost:8080/"
        },
        "id": "Rgox8VU1EBzr",
        "outputId": "089715d8-c12e-47b9-cca9-1a5d49bba578"
      },
      "execution_count": 110,
      "outputs": [
        {
          "output_type": "stream",
          "name": "stdout",
          "text": [
            "money(corrected)\n"
          ]
        }
      ]
    },
    {
      "cell_type": "code",
      "source": [
        "#Create bigrams from the dataset and calculate the frequencies for each of them\n",
        "bigramlist =[]\n",
        "bigramlist = [tuple(sents[i:i+2]) for i in range(len(sents))]\n",
        "count_bigram_words = Counter(bigramlist)\n",
        "count_bigram_words.most_common(10)"
      ],
      "metadata": {
        "colab": {
          "base_uri": "https://localhost:8080/"
        },
        "id": "ayY9m0lWgZfj",
        "outputId": "51eaeedd-ae45-45af-922f-9dc8ea4bb17f"
      },
      "execution_count": 111,
      "outputs": [
        {
          "output_type": "execute_result",
          "data": {
            "text/plain": [
              "[(('of', 'the'), 9739),\n",
              " (('in', 'the'), 6055),\n",
              " (('to', 'the'), 3500),\n",
              " (('on', 'the'), 2482),\n",
              " (('and', 'the'), 2256),\n",
              " (('for', 'the'), 1858),\n",
              " (('to', 'be'), 1718),\n",
              " (('at', 'the'), 1660),\n",
              " (('with', 'the'), 1543),\n",
              " (('of', 'a'), 1480)]"
            ]
          },
          "metadata": {},
          "execution_count": 111
        }
      ]
    },
    {
      "cell_type": "code",
      "source": [
        "#calculating the bigram probabilites for the given input\n",
        "def bigramprob(word, N=sum(count_bigram_words.values())): \n",
        "  bgprob = count_bigram_words[word]/prob(word[0])\n",
        "  return bgprob"
      ],
      "metadata": {
        "id": "n7zvhKT0r6q4"
      },
      "execution_count": 112,
      "outputs": []
    },
    {
      "cell_type": "code",
      "source": [
        "def bg_spell_checking(word): \n",
        "    #Most probable spelling correction for word\n",
        "    correct_word = max(possibilities(word), key=bigramprob)\n",
        "    if correct_word != word:\n",
        "        return correct_word + \"(corrected)\"\n",
        "    else:\n",
        "        return word"
      ],
      "metadata": {
        "id": "SVxXoAdHs4BK"
      },
      "execution_count": 113,
      "outputs": []
    },
    {
      "cell_type": "code",
      "source": [
        "#input_bg_sent = input(\"Enter your Text here: \")\n",
        "input_bg_sent = \"monney\"\n",
        "input_bg_sents =[]\n",
        "input_bg_sents = input_bg_sent.split()\n",
        "input_bg_sents = [ i.lower() for i in input_bg_sents ]\n",
        "input_bg_sents = [re.sub(r'[^A-Za-z0-9]+', '', word) for word in input_bg_sents]\n",
        "out_bg_sents=[]\n",
        "for each in input_bg_sents:\n",
        "  #spell_checking(each)\n",
        "  out_bg_sents.append(bg_spell_checking(each))\n",
        "out_bg_sents = ' '.join(i for i in out_bg_sents)\n",
        "print(out_bg_sents)"
      ],
      "metadata": {
        "colab": {
          "base_uri": "https://localhost:8080/"
        },
        "id": "0nIqzuLk0fYb",
        "outputId": "0465b329-d63f-44b2-ca83-7a87185196a3"
      },
      "execution_count": 115,
      "outputs": [
        {
          "output_type": "stream",
          "name": "stdout",
          "text": [
            "monkey(corrected)\n"
          ]
        }
      ]
    }
  ]
}